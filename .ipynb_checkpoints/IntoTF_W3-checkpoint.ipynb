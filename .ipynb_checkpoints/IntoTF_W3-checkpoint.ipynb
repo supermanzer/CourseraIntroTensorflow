{
 "cells": [
  {
   "cell_type": "markdown",
   "metadata": {},
   "source": [
    "## Intro to Tensorflow Continued\n",
    "----\n",
    "This notebook represents coding challenges from week 3 of our [Intro to Tensorflow Coursera Course](https://www.coursera.org/learn/introduction-tensorflow/lecture/5bJjm/a-conversation-with-andrew-ng)"
   ]
  },
  {
   "cell_type": "code",
   "execution_count": 1,
   "metadata": {},
   "outputs": [],
   "source": [
    "import matplotlib.pyplot as plt\n",
    "import numpy as np\n",
    "import tensorflow as tf"
   ]
  },
  {
   "cell_type": "markdown",
   "metadata": {},
   "source": [
    "### Convolutions and Pooling\n",
    "---\n",
    "Applying convolutional filtering to enhane features and then combining the values generated into smaller sample sizes to improve efficient analyses.  This is common among image compression algorithms.\n",
    "\n",
    "We will focus on 2D Convolutions and MaxPooling2D"
   ]
  },
  {
   "cell_type": "code",
   "execution_count": null,
   "metadata": {},
   "outputs": [],
   "source": [
    "# Previous image recognition model -- NO CONVOLUTION OR POOLING\n",
    "# This model processes each pixel in each image.\n",
    "model = tf.keras.Sequential([\n",
    "    tf.keras.layers.Flatten(input_shape=(28,28)),  # Input layer (shape of incoming data)\n",
    "    tf.keras.layers.Dense(256, activation=tf.nn.relu),  # This layer does the work\n",
    "    tf.keras.layers.Dense(10, activation=tf.nn.softmax)  # Output layer (shape of classification)\n",
    "])\n",
    "# On my machine this averaged 50 us per sample\n",
    "\n",
    "# Let's try that with some handy pre-built convolution and pooling functions\n",
    "model = tf.keras.Sequential([\n",
    "    tf.keras.layers.Conv2D(64, (3,3), activation='relu',\n",
    "                          input_shape=(28, 28, 1)),\n",
    "    tf.keras.layers.MaxPool2D(2, 2),\n",
    "    tf.keras.layers.Conv2D(64, (3, 3), activation='relu'),\n",
    "    \n",
    "    tf.keras.layers.Flatten(input_shape=(28,28)),  # Input layer (shape of incoming data)\n",
    "    tf.keras.layers.Dense(256, activation=tf.nn.relu),  # THis layer does the work\n",
    "    tf.keras.layers.Dense(10, activation=tf.nn.softmax)  # Output layer (shape of classification)\n",
    "])"
   ]
  }
 ],
 "metadata": {
  "kernelspec": {
   "display_name": "Python 3",
   "language": "python",
   "name": "python3"
  },
  "language_info": {
   "codemirror_mode": {
    "name": "ipython",
    "version": 3
   },
   "file_extension": ".py",
   "mimetype": "text/x-python",
   "name": "python",
   "nbconvert_exporter": "python",
   "pygments_lexer": "ipython3",
   "version": "3.7.3"
  }
 },
 "nbformat": 4,
 "nbformat_minor": 2
}
